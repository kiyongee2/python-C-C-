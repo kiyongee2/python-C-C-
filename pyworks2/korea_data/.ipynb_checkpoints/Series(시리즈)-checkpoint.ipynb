{
 "cells": [
  {
   "cell_type": "markdown",
   "id": "62c9aede-f288-41fb-9a1e-35f69aae4b18",
   "metadata": {},
   "source": [
    "### 판다스(pandas) 라이브러리\n",
    "- #### 시리즈(Series) : 데이터가 순차적으로 나열된 1차원 리스트 형태로<br> 인덱스(index)와 데이터 값(value)이 일대일로 대응됨\n",
    "- #### 데이터프레임(DataFrame) : 행과 열로 만들어지는 2차원 리스트 구조로 표형태이다."
   ]
  },
  {
   "cell_type": "code",
   "execution_count": 3,
   "id": "8d76931b-6995-4921-9369-3147414af992",
   "metadata": {},
   "outputs": [],
   "source": [
    "# 판다스 설치(주피터노트북에서는 pip앞에 느낌표부호(!) 붙임)\n",
    "# !pip install pandas"
   ]
  },
  {
   "cell_type": "code",
   "execution_count": 22,
   "id": "79edddca-9fcc-495b-99b0-29e1ad0e89c4",
   "metadata": {},
   "outputs": [
    {
     "name": "stdout",
     "output_type": "stream",
     "text": [
      "1        키보드\n",
      "2        마우스\n",
      "3    USB 메모리\n",
      "dtype: object\n",
      "<class 'pandas.core.series.Series'>\n",
      "Index([1, 2, 3], dtype='int64')\n",
      "['키보드' '마우스' 'USB 메모리']\n",
      "(3,)\n"
     ]
    },
    {
     "data": {
      "text/plain": [
       "2        마우스\n",
       "3    USB 메모리\n",
       "dtype: object"
      ]
     },
     "execution_count": 22,
     "metadata": {},
     "output_type": "execute_result"
    }
   ],
   "source": [
    "import pandas as pd\n",
    "\n",
    "# 시리즈 형태 데이터 만들기\n",
    "data = [\"키보드\", \"마우스\", \"USB 메모리\"]\n",
    "\n",
    "# index를 생략하면 0부터 시작됨\n",
    "s1 = pd.Series(data, index=[1, 2, 3])\n",
    "print(s1)\n",
    "print(type(s1))\n",
    "\n",
    "# 시리즈의 속성\n",
    "print(s1.index)\n",
    "print(s1.values)\n",
    "print(s1.shape) #시리즈의 크기(튜플)\n",
    "\n",
    "# 요소 선택\n",
    "s1[1] #1번 인덱스 검색\n",
    "s1[2]\n",
    "s1[0:3] #슬라이싱 할때는 0번부터 시작"
   ]
  }
 ],
 "metadata": {
  "kernelspec": {
   "display_name": "Python 3 (ipykernel)",
   "language": "python",
   "name": "python3"
  },
  "language_info": {
   "codemirror_mode": {
    "name": "ipython",
    "version": 3
   },
   "file_extension": ".py",
   "mimetype": "text/x-python",
   "name": "python",
   "nbconvert_exporter": "python",
   "pygments_lexer": "ipython3",
   "version": "3.13.5"
  }
 },
 "nbformat": 4,
 "nbformat_minor": 5
}
