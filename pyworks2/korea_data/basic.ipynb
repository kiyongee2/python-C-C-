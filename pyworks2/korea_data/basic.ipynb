{
 "cells": [
  {
   "cell_type": "code",
   "execution_count": 1,
   "id": "cb526c83-ef39-4b77-8a49-d689ff7d438b",
   "metadata": {},
   "outputs": [
    {
     "name": "stdout",
     "output_type": "stream",
     "text": [
      "Hello~ World\n"
     ]
    }
   ],
   "source": [
    "print(\"Hello~ World\")"
   ]
  },
  {
   "cell_type": "code",
   "execution_count": 8,
   "id": "222da48f-be84-4860-9f37-176dd7907938",
   "metadata": {},
   "outputs": [
    {
     "name": "stdout",
     "output_type": "stream",
     "text": [
      "30\n",
      "-10\n",
      "200\n",
      "0.5\n",
      "0\n",
      "10\n"
     ]
    }
   ],
   "source": [
    "print(10 + 20)\n",
    "print(10 - 20)\n",
    "print(10 * 20)\n",
    "print(10 / 20)\n",
    "print(10 // 20)\n",
    "print(10 % 20)"
   ]
  },
  {
   "cell_type": "code",
   "execution_count": 14,
   "id": "beb296ca-133f-465f-bf14-f620b61de5d0",
   "metadata": {},
   "outputs": [
    {
     "data": {
      "text/plain": [
       "['라면', '달걀']"
      ]
     },
     "execution_count": 14,
     "metadata": {},
     "output_type": "execute_result"
    }
   ],
   "source": [
    "n1 = 10\n",
    "n2 = 20\n",
    "\n",
    "n1 + n2\n",
    "n1 - n2\n",
    "\n",
    "carts = [\"커피\", \"라면\", \"달걀\"]\n",
    "carts\n",
    "carts[0]\n",
    "carts[-1]\n",
    "carts[1:]"
   ]
  },
  {
   "cell_type": "markdown",
   "id": "f7c03fab-6af0-4b43-9545-fe9df8774d77",
   "metadata": {},
   "source": [
    "## 함수 만들기\n",
    "- ### 기능: 절대값 계산\n",
    "- ### 설명: 음수는 양수로, 양수는 음수로 변환"
   ]
  },
  {
   "cell_type": "code",
   "execution_count": 16,
   "id": "a0a78af7-dcba-4bdf-b92e-81b212acf03d",
   "metadata": {},
   "outputs": [
    {
     "data": {
      "text/plain": [
       "10"
      ]
     },
     "execution_count": 16,
     "metadata": {},
     "output_type": "execute_result"
    }
   ],
   "source": [
    "def my_abs(x):\n",
    "    if x < 0:\n",
    "        return -x\n",
    "    else:\n",
    "        return x\n",
    "\n",
    "my_abs(-10)\n",
    "my_abs(10)"
   ]
  }
 ],
 "metadata": {
  "kernelspec": {
   "display_name": "Python 3 (ipykernel)",
   "language": "python",
   "name": "python3"
  },
  "language_info": {
   "codemirror_mode": {
    "name": "ipython",
    "version": 3
   },
   "file_extension": ".py",
   "mimetype": "text/x-python",
   "name": "python",
   "nbconvert_exporter": "python",
   "pygments_lexer": "ipython3",
   "version": "3.13.5"
  }
 },
 "nbformat": 4,
 "nbformat_minor": 5
}
