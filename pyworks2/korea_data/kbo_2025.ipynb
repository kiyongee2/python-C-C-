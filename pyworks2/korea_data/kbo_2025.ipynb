{
 "cells": [
  {
   "cell_type": "code",
   "execution_count": 13,
   "id": "606464a7-c565-4406-93df-e201f7fdc058",
   "metadata": {},
   "outputs": [
    {
     "data": {
      "text/plain": [
       "[0.616, 0.563, 0.54, 0.529, 0.517, 0.512, 0.5, 0.494, 0.424, 0.307]"
      ]
     },
     "execution_count": 13,
     "metadata": {},
     "output_type": "execute_result"
    }
   ],
   "source": [
    "# 웹 스크래핑\n",
    "import requests\n",
    "from bs4 import BeautifulSoup\n",
    "\n",
    "# kbo 팀순위 사이트\n",
    "url = \"https://www.koreabaseball.com/record/teamrank/teamrankdaily.aspx\"\n",
    "response = requests.get(url)\n",
    "# response.text\n",
    "# html 파싱\n",
    "html = BeautifulSoup(response.text, 'html.parser')\n",
    "\n",
    "# select() 사용 검색\n",
    "# 첫번째 테이블 - select_one()\n",
    "first_table = html.select_one('table.tData > tbody')\n",
    "# print(first_table)\n",
    "\n",
    "# 특정 열 선택(여러개- td:nth-of-type(1)) - select()\n",
    "순위 = first_table.select('tr > td:nth-of-type(1)')\n",
    "# 순위\n",
    "# for i in 순위:\n",
    "#     print(i.text)\n",
    "# 순위 리스트 만들기\n",
    "[int(i.text) for i in 순위]\n",
    "\n",
    "팀 = first_table.select('tr > td:nth-of-type(2)')\n",
    "[i.text for i in 팀]\n",
    "\n",
    "승 = first_table.select('tr > td:nth-of-type(4)')\n",
    "[int(i.text) for i in 승]\n",
    "\n",
    "패 = first_table.select('tr > td:nth-of-type(5)')\n",
    "[int(i.text) for i in 패]\n",
    "\n",
    "무 = first_table.select('tr > td:nth-of-type(6)')\n",
    "[int(i.text) for i in 무]\n",
    "\n",
    "승률 = first_table.select('tr > td:nth-of-type(7)')\n",
    "[float(i.text) for i in 승률]"
   ]
  },
  {
   "cell_type": "code",
   "execution_count": 19,
   "id": "74814823-22db-40bb-8d33-a27f74913dcb",
   "metadata": {},
   "outputs": [],
   "source": [
    "# 텍스트 파일 쓰기\n",
    "with open(\"datas/kbo_2025.txt\", \"w\") as f:\n",
    "    f.write(\"===== 2025 한국 프로야구 팀순위 =====\\n\")\n",
    "    head = \"순위\\t팀\\t승\\t패\\t무\\t승률\"\n",
    "    f.write(head)\n",
    "    f.write('\\n')\n",
    "    for i in range(len(팀)): #10번 반복\n",
    "        txt = f'{순위[i].text}\\t{팀[i].text}\\t{승[i].text}\\t{패[i].text}\\t \\\n",
    "{무[i].text}\\t{승률[i].text}\\n'\n",
    "        f.write(txt)"
   ]
  },
  {
   "cell_type": "code",
   "execution_count": 20,
   "id": "5e87f966-4267-4d08-940f-f7506281c1d1",
   "metadata": {},
   "outputs": [
    {
     "name": "stdout",
     "output_type": "stream",
     "text": [
      "===== 2025 한국 프로야구 팀순위 =====\n",
      "순위\t팀\t승\t패\t무\t승률\n",
      "1\t한화\t53\t33\t 2\t0.616\n",
      "2\tLG\t49\t38\t 2\t0.563\n",
      "3\t롯데\t47\t40\t 3\t0.540\n",
      "4\tKIA\t45\t40\t 3\t0.529\n",
      "5\tKT\t45\t42\t 3\t0.517\n",
      "6\tSSG\t43\t41\t 3\t0.512\n",
      "7\tNC\t40\t40\t 5\t0.500\n",
      "8\t삼성\t43\t44\t 1\t0.494\n",
      "9\t두산\t36\t49\t 3\t0.424\n",
      "10\t키움\t27\t61\t 3\t0.307\n",
      "\n"
     ]
    }
   ],
   "source": [
    "with open(\"datas/kbo_2025.txt\", \"r\") as f:\n",
    "    data = f.read()\n",
    "    print(data)"
   ]
  }
 ],
 "metadata": {
  "kernelspec": {
   "display_name": "Python 3 (ipykernel)",
   "language": "python",
   "name": "python3"
  },
  "language_info": {
   "codemirror_mode": {
    "name": "ipython",
    "version": 3
   },
   "file_extension": ".py",
   "mimetype": "text/x-python",
   "name": "python",
   "nbconvert_exporter": "python",
   "pygments_lexer": "ipython3",
   "version": "3.13.5"
  }
 },
 "nbformat": 4,
 "nbformat_minor": 5
}
